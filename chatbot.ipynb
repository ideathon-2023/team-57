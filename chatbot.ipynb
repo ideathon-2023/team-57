{
 "cells": [
  {
   "cell_type": "code",
   "execution_count": 1,
   "id": "c5fc5576-6c73-4baf-90ee-9a9b28a4adfa",
   "metadata": {},
   "outputs": [
    {
     "ename": "ModuleNotFoundError",
     "evalue": "No module named 'langchain'",
     "output_type": "error",
     "traceback": [
      "\u001b[1;31m---------------------------------------------------------------------------\u001b[0m",
      "\u001b[1;31mModuleNotFoundError\u001b[0m                       Traceback (most recent call last)",
      "Input \u001b[1;32mIn [1]\u001b[0m, in \u001b[0;36m<cell line: 1>\u001b[1;34m()\u001b[0m\n\u001b[1;32m----> 1\u001b[0m \u001b[38;5;28;01mfrom\u001b[39;00m \u001b[38;5;21;01mlangchain\u001b[39;00m\u001b[38;5;21;01m.\u001b[39;00m\u001b[38;5;21;01mchat_models\u001b[39;00m \u001b[38;5;28;01mimport\u001b[39;00m ChatOpenAI\n\u001b[0;32m      2\u001b[0m \u001b[38;5;28;01mfrom\u001b[39;00m \u001b[38;5;21;01mlangchain\u001b[39;00m\u001b[38;5;21;01m.\u001b[39;00m\u001b[38;5;21;01mchains\u001b[39;00m \u001b[38;5;28;01mimport\u001b[39;00m ConversationChain\n\u001b[0;32m      3\u001b[0m \u001b[38;5;28;01mfrom\u001b[39;00m \u001b[38;5;21;01mlangchain\u001b[39;00m\u001b[38;5;21;01m.\u001b[39;00m\u001b[38;5;21;01mchains\u001b[39;00m\u001b[38;5;21;01m.\u001b[39;00m\u001b[38;5;21;01mconversation\u001b[39;00m\u001b[38;5;21;01m.\u001b[39;00m\u001b[38;5;21;01mmemory\u001b[39;00m \u001b[38;5;28;01mimport\u001b[39;00m ConversationBufferWindowMemory\n",
      "\u001b[1;31mModuleNotFoundError\u001b[0m: No module named 'langchain'"
     ]
    }
   ],
   "source": [
    "from langchain.chat_models import ChatOpenAI\n",
    "from langchain.chains import ConversationChain\n",
    "from langchain.chains.conversation.memory import ConversationBufferWindowMemory\n",
    "from langchain.prompts import (\n",
    "    SystemMessagePromptTemplate,\n",
    "    HumanMessagePromptTemplate,\n",
    "    ChatPromptTemplate,\n",
    "    MessagesPlaceholder\n",
    ")\n",
    "import streamlit as st\n",
    "from streamlit_chat import message\n",
    "from utils import *\n",
    "\n",
    "st.subheader(\"Chatbot with Langchain, ChatGPT, Pinecone, and Streamlit\")\n",
    "\n",
    "if 'responses' not in st.session_state:\n",
    "    st.session_state['responses'] = [\"How can I assist you?\"]\n",
    "\n",
    "if 'requests' not in st.session_state:\n",
    "    st.session_state['requests'] = []\n",
    "\n",
    "llm = ChatOpenAI(model_name=\"gpt-3.5-turbo\", openai_api_key=\"\")\n",
    "\n",
    "if 'buffer_memory' not in st.session_state:\n",
    "            st.session_state.buffer_memory=ConversationBufferWindowMemory(k=3,return_messages=True)\n",
    "\n",
    "\n",
    "system_msg_template = SystemMessagePromptTemplate.from_template(template=\"\"\"Answer the question as truthfully as possible using the provided context, \n",
    "and if the answer is not contained within the text below, say 'I don't know'\"\"\")\n",
    "\n",
    "\n",
    "human_msg_template = HumanMessagePromptTemplate.from_template(template=\"{input}\")\n",
    "\n",
    "prompt_template = ChatPromptTemplate.from_messages([system_msg_template, MessagesPlaceholder(variable_name=\"history\"), human_msg_template])\n",
    "\n",
    "conversation = ConversationChain(memory=st.session_state.buffer_memory, prompt=prompt_template, llm=llm, verbose=True)\n",
    "\n",
    "\n",
    "\n",
    "\n",
    "# container for chat history\n",
    "response_container = st.container()\n",
    "# container for text box\n",
    "textcontainer = st.container()\n",
    "\n",
    "\n",
    "with textcontainer:\n",
    "    query = st.text_input(\"Query: \", key=\"input\")\n",
    "    if query:\n",
    "        with st.spinner(\"typing...\"):\n",
    "            conversation_string = get_conversation_string()\n",
    "            # st.code(conversation_string)\n",
    "            refined_query = query_refiner(conversation_string, query)\n",
    "            st.subheader(\"Refined Query:\")\n",
    "            st.write(refined_query)\n",
    "            context = find_match(refined_query)\n",
    "            # print(context)  \n",
    "            response = conversation.predict(input=f\"Context:\\n {context} \\n\\n Query:\\n{query}\")\n",
    "        st.session_state.requests.append(query)\n",
    "        st.session_state.responses.append(response) \n",
    "with response_container:\n",
    "    if st.session_state['responses']:\n",
    "\n",
    "        for i in range(len(st.session_state['responses'])):\n",
    "            message(st.session_state['responses'][i],key=str(i))\n",
    "            if i < len(st.session_state['requests']):\n",
    "                message(st.session_state[\"requests\"][i], is_user=True,key=str(i)+ '_user')"
   ]
  },
  {
   "cell_type": "code",
   "execution_count": null,
   "id": "802be713-a36b-47e8-9bad-e385462fbc4f",
   "metadata": {},
   "outputs": [],
   "source": []
  }
 ],
 "metadata": {
  "kernelspec": {
   "display_name": "Python 3 (ipykernel)",
   "language": "python",
   "name": "python3"
  },
  "language_info": {
   "codemirror_mode": {
    "name": "ipython",
    "version": 3
   },
   "file_extension": ".py",
   "mimetype": "text/x-python",
   "name": "python",
   "nbconvert_exporter": "python",
   "pygments_lexer": "ipython3",
   "version": "3.9.12"
  }
 },
 "nbformat": 4,
 "nbformat_minor": 5
}
